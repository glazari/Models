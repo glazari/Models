{
 "cells": [
  {
   "cell_type": "code",
   "execution_count": 1,
   "metadata": {
    "collapsed": true
   },
   "outputs": [],
   "source": [
    "import numpy as np\n",
    "import tensorflow as tf\n",
    "import matplotlib.pyplot as plt\n",
    "\n",
    "%matplotlib inline\n",
    "\n",
    "import datasets\n",
    "from layers import relu, conv, dense, max_pool, flatten"
   ]
  },
  {
   "cell_type": "code",
   "execution_count": 2,
   "metadata": {},
   "outputs": [
    {
     "name": "stdout",
     "output_type": "stream",
     "text": [
      "loading Cifar_10 training images...\n",
      "loading Cifar_10 test images...\n"
     ]
    }
   ],
   "source": [
    "#load data set\n",
    "train_set, test_set = datasets.load_Cifar_10()\n",
    "train_x, train_y = train_set\n",
    "test_x, test_y = test_set\n",
    "\n",
    "set_mean  = np.mean(train_x)\n",
    "set_sigma = np.std(train_x)\n",
    "\n",
    "def normalize(Xs):\n",
    "    #normalize by training data mean and sigma\n",
    "    Xs = (Xs - set_mean)/set_sigma\n",
    "    return Xs"
   ]
  },
  {
   "cell_type": "code",
   "execution_count": 3,
   "metadata": {},
   "outputs": [
    {
     "name": "stdout",
     "output_type": "stream",
     "text": [
      "4096\n"
     ]
    }
   ],
   "source": [
    "#model\n",
    "x = tf.placeholder(tf.float32, [None, 32*32*3],'X')\n",
    "x_im = tf.reshape(x, shape=[-1, 32, 32, 3])\n",
    "\n",
    "y = tf.placeholder(tf.int32, (None, 10))\n",
    "\n",
    "conv1 = relu(conv(x_im,n_out=64,ksize=5))\n",
    "conv1 = max_pool(conv1, ksize=3, stride=2)\n",
    "conv2 = relu(conv(conv1, n_out=64, ksize=5))\n",
    "conv2 = max_pool(conv2, ksize=3, stride=2)\n",
    "flat = flatten(conv2)\n",
    "dense1 = relu(dense(flat, 384))\n",
    "dense2 = relu(dense(dense1, 192))\n",
    "logits = dense(dense2, 10)"
   ]
  },
  {
   "cell_type": "markdown",
   "metadata": {},
   "source": [
    "# Inception module"
   ]
  },
  {
   "cell_type": "code",
   "execution_count": 19,
   "metadata": {
    "collapsed": true
   },
   "outputs": [],
   "source": [
    "def inception_module(tensor, n_out, n_reduce=16):\n",
    "    #1x1 conv\n",
    "    conv_1x1_1 = conv(tensor, n_out, ksize=1)\n",
    "    \n",
    "    #3x3 conv\n",
    "    #conv_1x1_2 = relu(conv(tensor, n_reduce, ksize=1))\n",
    "    conv_3x3 = conv(conv_1x1_1, n_out, ksize=3)\n",
    "    \n",
    "    #5x5 conv\n",
    "    #conv_1x1_3 = relu(conv(tensor, n_reduce, ksize=1))\n",
    "    conv_5x5 = conv(conv_1x1_1, n_out, ksize=5)\n",
    "    \n",
    "    #Max pool\n",
    "    maxpool = max_pool(tensor, ksize=3, stride=1)\n",
    "    conv_1x1_4 = conv(maxpool, n_out, ksize=1)\n",
    "    \n",
    "    #Concatinate\n",
    "    concat = tf.concat([conv_1x1_1,conv_3x3,conv_5x5,conv_1x1_4], axis=3)\n",
    "    return relu(concat)\n"
   ]
  },
  {
   "cell_type": "code",
   "execution_count": 20,
   "metadata": {},
   "outputs": [
    {
     "name": "stdout",
     "output_type": "stream",
     "text": [
      "65536\n"
     ]
    }
   ],
   "source": [
    "#Inception model\n",
    "batch_size = 50\n",
    "\n",
    "x = tf.placeholder(tf.float32, [None, 32*32*3],'X')\n",
    "x_im = tf.reshape(x, shape=[-1, 32, 32, 3])\n",
    "\n",
    "y = tf.placeholder(tf.int32, (None, 10))\n",
    "\n",
    "\n",
    "incep1 = inception_module(x_im, n_out=16, n_reduce=8)\n",
    "incep2 = inception_module(incep1, n_out=16, n_reduce=8)\n",
    "\n",
    "flat = flatten(incep2)\n",
    "\n",
    "dense1 = relu(dense(flat, n_out=700))\n",
    "keepprob = tf.Variable(tf.constant(0.5), trainable=False)\n",
    "keep5 = tf.assign(keepprob, 0.5)\n",
    "keep1 = tf.assign(keepprob, 1)\n",
    "dense1 = tf.nn.dropout(dense1, keep_prob=keepprob)\n",
    "\n",
    "logits = dense(dense1, n_out=10)\n",
    "\n",
    "\n"
   ]
  },
  {
   "cell_type": "code",
   "execution_count": 21,
   "metadata": {
    "collapsed": true
   },
   "outputs": [],
   "source": [
    "#loss function\n",
    "rate = 0.001\n",
    "\n",
    "l2_loss = tf.reduce_sum(tf.get_collection('l2_losses'))\n",
    "\n",
    "cross_entropy = tf.nn.softmax_cross_entropy_with_logits(labels=y, logits=logits)\n",
    "loss_operation = tf.reduce_mean(cross_entropy) + 0.002*l2_loss\n",
    "optimizer = tf.train.AdamOptimizer(learning_rate = rate)\n",
    "train_step = optimizer.minimize(loss_operation)\n",
    "\n",
    "#Evaluation\n",
    "correct_prediction = tf.equal(tf.argmax(logits, 1), tf.argmax(y, 1))\n",
    "accuracy_operation = tf.reduce_mean(tf.cast(correct_prediction, tf.float32))\n",
    "saver = tf.train.Saver()\n",
    "\n",
    "init = tf.global_variables_initializer()\n",
    "\n",
    "#run epoch\n",
    "def run_epoch(xs, ys, train=True, batch_size=128, augment=True):\n",
    "    avg_loss = 0.\n",
    "    avg_acc = 0.\n",
    "    for batch_xs, batch_ys in datasets.batches(xs, ys, batch_size=batch_size):\n",
    "        if len(batch_xs) != batch_size:\n",
    "            continue\n",
    "        batch_xs = normalize(batch_xs)\n",
    "        feed_dict = {x: batch_xs, y: batch_ys}\n",
    "        if train:\n",
    "            opt, loss, acc = sess.run((train_step,loss_operation,accuracy_operation),\n",
    "                                     feed_dict=feed_dict)\n",
    "        else:\n",
    "            loss, acc = sess.run((loss_operation, accuracy_operation),\n",
    "                                feed_dict=feed_dict)\n",
    "        n = len(xs)\n",
    "        n_batch = len(batch_xs)\n",
    "        avg_loss += loss / n * n_batch\n",
    "        avg_acc += acc / n * n_batch\n",
    "    return avg_loss, avg_acc"
   ]
  },
  {
   "cell_type": "code",
   "execution_count": 6,
   "metadata": {
    "collapsed": true
   },
   "outputs": [],
   "source": [
    "sess = tf.Session()"
   ]
  },
  {
   "cell_type": "code",
   "execution_count": null,
   "metadata": {},
   "outputs": [
    {
     "name": "stdout",
     "output_type": "stream",
     "text": [
      "EPOCH: 0002, LOSS: 2.76168, ACC: 0.47844, VAL_LOSS: 2.03398, VAL_ACC: 0.51260, l2: 340.79828\n",
      "EPOCH: 0003, LOSS: 2.02541, ACC: 0.51264, VAL_LOSS: 1.87118, VAL_ACC: 0.55390, l2: 308.02704\n",
      "EPOCH: 0004, LOSS: 1.93946, ACC: 0.53354, VAL_LOSS: 1.81727, VAL_ACC: 0.56390, l2: 296.90463\n",
      "EPOCH: 0005, LOSS: 1.89212, ACC: 0.54852, VAL_LOSS: 1.77223, VAL_ACC: 0.58100, l2: 295.60883\n",
      "EPOCH: 0006, LOSS: 1.83451, ACC: 0.56032, VAL_LOSS: 1.75420, VAL_ACC: 0.58170, l2: 287.71295\n",
      "EPOCH: 0007, LOSS: 1.79819, ACC: 0.57046, VAL_LOSS: 1.72725, VAL_ACC: 0.59360, l2: 290.75711\n",
      "EPOCH: 0008, LOSS: 1.78862, ACC: 0.57938, VAL_LOSS: 1.67986, VAL_ACC: 0.60840, l2: 280.09555\n",
      "EPOCH: 0009, LOSS: 1.75296, ACC: 0.58640, VAL_LOSS: 1.69150, VAL_ACC: 0.60950, l2: 292.63345\n",
      "EPOCH: 0010, LOSS: 1.75006, ACC: 0.59094, VAL_LOSS: 1.65850, VAL_ACC: 0.61360, l2: 286.09070\n",
      "EPOCH: 0011, LOSS: 1.73389, ACC: 0.59476, VAL_LOSS: 1.67536, VAL_ACC: 0.61910, l2: 290.37259\n",
      "EPOCH: 0012, LOSS: 1.73253, ACC: 0.59488, VAL_LOSS: 1.67111, VAL_ACC: 0.60170, l2: 285.91296\n",
      "EPOCH: 0013, LOSS: 1.71986, ACC: 0.60326, VAL_LOSS: 1.67593, VAL_ACC: 0.61380, l2: 291.80685\n",
      "EPOCH: 0014, LOSS: 1.71798, ACC: 0.60298, VAL_LOSS: 1.66073, VAL_ACC: 0.62420, l2: 290.33890\n",
      "EPOCH: 0015, LOSS: 1.71102, ACC: 0.60778, VAL_LOSS: 1.66856, VAL_ACC: 0.62300, l2: 294.20190\n",
      "EPOCH: 0016, LOSS: 1.70818, ACC: 0.60878, VAL_LOSS: 1.68790, VAL_ACC: 0.60360, l2: 293.05078\n",
      "EPOCH: 0017, LOSS: 1.70500, ACC: 0.60960, VAL_LOSS: 1.64839, VAL_ACC: 0.62720, l2: 294.78781\n",
      "EPOCH: 0018, LOSS: 1.69936, ACC: 0.61484, VAL_LOSS: 1.66439, VAL_ACC: 0.62730, l2: 302.77539\n",
      "EPOCH: 0019, LOSS: 1.69655, ACC: 0.61468, VAL_LOSS: 1.64341, VAL_ACC: 0.63000, l2: 295.17709\n"
     ]
    }
   ],
   "source": [
    "%%time\n",
    "training_epochs = 20\n",
    "display_step = 1\n",
    "\n",
    "#sess.run(init)\n",
    "#val_losses = []\n",
    "#losses = []\n",
    "#val_accs = []\n",
    "#accs = []\n",
    "for epoch in range(1,training_epochs):\n",
    "    sess.run(keep5)\n",
    "    train_loss, train_acc = run_epoch(train_x, train_y, batch_size=50)\n",
    "    sess.run(keep1)\n",
    "    val_loss, val_acc = run_epoch(test_x, test_y, train=False, batch_size=50)\n",
    "    \n",
    "    val_losses.append(val_loss)\n",
    "    losses.append(train_loss)\n",
    "    val_accs.append(val_acc)\n",
    "    accs.append(train_acc)\n",
    "    \n",
    "    l2 = sess.run(l2_loss)\n",
    "    \n",
    "    #Display every 'display_step' steps\n",
    "    if epoch % display_step == 0:\n",
    "        print (\"EPOCH: %04d, LOSS: %.5f, ACC: %.5f, VAL_LOSS: %.5f, VAL_ACC: %.5f, l2: %.5f\" % \n",
    "                   (epoch+1, train_loss, train_acc, val_loss, val_acc, l2))\n",
    "if epoch % display_step == 0:\n",
    "    print (\"EPOCH: %04d, LOSS: %.5f, ACC: %.5f, VAL_LOSS: %.5f, VAL_ACC: %.5f\" % \n",
    "                (epoch+1, train_loss, train_acc, val_loss, val_acc))\n",
    "\n",
    "plt.figure(figsize=(15,3))\n",
    "plt.subplot(121)\n",
    "plt.plot(losses)\n",
    "plt.plot(val_losses)\n",
    "plt.subplot(122)\n",
    "plt.plot(accs)\n",
    "_ = plt.plot(val_accs)"
   ]
  },
  {
   "cell_type": "code",
   "execution_count": null,
   "metadata": {},
   "outputs": [
    {
     "name": "stdout",
     "output_type": "stream",
     "text": [
      "EPOCH: 0101, LOSS: 1.50574, ACC: 0.67204, VAL_LOSS: 1.51115, VAL_ACC: 0.66650, l2: 283.26254\n"
     ]
    }
   ],
   "source": [
    "%%time\n",
    "training_epochs = 200\n",
    "display_step = 20\n",
    "\n",
    "for epoch in range(100,training_epochs):\n",
    "    sess.run(keep5)\n",
    "    train_loss, train_acc = run_epoch(train_x, train_y, batch_size=50)\n",
    "    sess.run(keep1)\n",
    "    val_loss, val_acc = run_epoch(test_x, test_y, train=False, batch_size=50)\n",
    "    \n",
    "    val_losses.append(val_loss)\n",
    "    losses.append(train_loss)\n",
    "    val_accs.append(val_acc)\n",
    "    accs.append(train_acc)\n",
    "    \n",
    "    l2 = sess.run(l2_loss)\n",
    "    \n",
    "    #Display every 'display_step' steps\n",
    "    if epoch % display_step == 0:\n",
    "        print (\"EPOCH: %04d, LOSS: %.5f, ACC: %.5f, VAL_LOSS: %.5f, VAL_ACC: %.5f, l2: %.5f\" % \n",
    "                   (epoch+1, train_loss, train_acc, val_loss, val_acc, l2))\n",
    "if epoch % display_step == 0:\n",
    "    print (\"EPOCH: %04d, LOSS: %.5f, ACC: %.5f, VAL_LOSS: %.5f, VAL_ACC: %.5f\" % \n",
    "                (epoch+1, train_loss, train_acc, val_loss, val_acc))\n",
    "\n",
    "plt.figure(figsize=(15,3))\n",
    "plt.subplot(121)\n",
    "plt.plot(losses)\n",
    "plt.plot(val_losses)\n",
    "plt.subplot(122)\n",
    "plt.plot(accs)\n",
    "_ = plt.plot(val_accs)"
   ]
  },
  {
   "cell_type": "code",
   "execution_count": 14,
   "metadata": {},
   "outputs": [
    {
     "data": {
      "image/png": "[encoded data removed]",
      "text/plain": [
       "<matplotlib.figure.Figure at 0x7f55af4c06a0>"
      ]
     },
     "metadata": {},
     "output_type": "display_data"
    }
   ],
   "source": [
    "plt.figure(figsize=(15,3))\n",
    "plt.subplot(121)\n",
    "plt.plot(losses)\n",
    "plt.plot(val_losses)\n",
    "plt.subplot(122)\n",
    "plt.plot(accs)\n",
    "_ = plt.plot(val_accs)"
   ]
  },
  {
   "cell_type": "code",
   "execution_count": 18,
   "metadata": {},
   "outputs": [
    {
     "data": {
      "text/plain": [
       "0.67569998383522045"
      ]
     },
     "execution_count": 18,
     "metadata": {},
     "output_type": "execute_result"
    }
   ],
   "source": [
    "max(val_accs)"
   ]
  }
 ],
 "metadata": {
  "kernelspec": {
   "display_name": "Python 3",
   "language": "python",
   "name": "python3"
  },
  "language_info": {
   "codemirror_mode": {
    "name": "ipython",
    "version": 3
   },
   "file_extension": ".py",
   "mimetype": "text/x-python",
   "name": "python",
   "nbconvert_exporter": "python",
   "pygments_lexer": "ipython3",
   "version": "3.6.2"
  }
 },
 "nbformat": 4,
 "nbformat_minor": 2
}
